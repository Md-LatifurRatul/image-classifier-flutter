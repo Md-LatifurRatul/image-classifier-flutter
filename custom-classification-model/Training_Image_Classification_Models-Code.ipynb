{
  "cells": [
    {
      "cell_type": "markdown",
      "source": [
        "## Importing Libraries"
      ],
      "metadata": {
        "id": "MV623BdUWnhh"
      }
    },
    {
      "cell_type": "code",
      "execution_count": 1,
      "metadata": {
        "id": "fOHfaTNrbe3v"
      },
      "outputs": [],
      "source": [
        "# !pip install mediapipe-model-maker\n"
      ]
    },
    {
      "cell_type": "code",
      "execution_count": 2,
      "metadata": {
        "id": "Oj2Z0U25byZT"
      },
      "outputs": [],
      "source": [
        "from google.colab import files\n",
        "import os\n",
        "import tensorflow as tf\n",
        "assert tf.__version__.startswith('2')\n",
        "\n",
        "from mediapipe_model_maker import image_classifier\n",
        "\n",
        "import matplotlib.pyplot as plt"
      ]
    },
    {
      "cell_type": "markdown",
      "source": [
        "## Loading Dataset"
      ],
      "metadata": {
        "id": "xtYUcoU0Wwaa"
      }
    },
    {
      "cell_type": "code",
      "execution_count": 10,
      "metadata": {
        "id": "56cIsfwK5YQY",
        "colab": {
          "base_uri": "https://localhost:8080/"
        },
        "outputId": "bd5b7810-9a1a-475a-f832-9277f5b23a18"
      },
      "outputs": [
        {
          "output_type": "stream",
          "name": "stdout",
          "text": [
            "Drive already mounted at /content/drive; to attempt to forcibly remount, call drive.mount(\"/content/drive\", force_remount=True).\n"
          ]
        }
      ],
      "source": [
        "#save final weights to google drive\n",
        "from google.colab import drive\n",
        "drive.mount('/content/drive')"
      ]
    },
    {
      "cell_type": "code",
      "metadata": {
        "id": "pRUe01fg1wmG",
        "colab": {
          "base_uri": "https://localhost:8080/"
        },
        "outputId": "2057141d-c991-43d4-8deb-6a6029a8d4f7"
      },
      "source": [
        "zip_file_name = \"/content/drive/MyDrive/Colab\\ Notebooks/Dataset/dataset\" #@param {type:\"string\"}\n",
        "!unzip {zip_file_name}.zip"
      ],
      "execution_count": 14,
      "outputs": [
        {
          "output_type": "stream",
          "name": "stdout",
          "text": [
            "Archive:  /content/drive/MyDrive/Colab Notebooks/Dataset/dataset.zip\n",
            "   creating: dataset/\n",
            "   creating: dataset/apple/\n",
            "  inflating: dataset/apple/Image_1.jpg  \n",
            "  inflating: dataset/apple/Image_10.jpg  \n",
            "  inflating: dataset/apple/Image_16.jpg  \n",
            "  inflating: dataset/apple/Image_17.jpg  \n",
            "  inflating: dataset/apple/Image_18.jpg  \n",
            "  inflating: dataset/apple/Image_19.jpg  \n",
            "  inflating: dataset/apple/Image_2.jpg  \n",
            "  inflating: dataset/apple/Image_20.jpg  \n",
            "  inflating: dataset/apple/Image_21.jpg  \n",
            "  inflating: dataset/apple/Image_23.jpg  \n",
            "  inflating: dataset/apple/Image_24.jpg  \n",
            "  inflating: dataset/apple/Image_25.jpg  \n",
            "  inflating: dataset/apple/Image_26.jpg  \n",
            "  inflating: dataset/apple/Image_27.jpg  \n",
            "  inflating: dataset/apple/Image_28.jpg  \n",
            "  inflating: dataset/apple/Image_3.jpg  \n",
            "  inflating: dataset/apple/Image_31.jpg  \n",
            "  inflating: dataset/apple/Image_32.jpg  \n",
            "  inflating: dataset/apple/Image_33.jpg  \n",
            "  inflating: dataset/apple/Image_34.jpg  \n",
            "  inflating: dataset/apple/Image_35.png  \n",
            "  inflating: dataset/apple/Image_36.jpg  \n",
            "  inflating: dataset/apple/Image_37.jpg  \n",
            "  inflating: dataset/apple/Image_38.jpg  \n",
            "  inflating: dataset/apple/Image_39.jpg  \n",
            "  inflating: dataset/apple/Image_4.jpg  \n",
            "  inflating: dataset/apple/Image_40.jpg  \n",
            "  inflating: dataset/apple/Image_41.jpg  \n",
            "  inflating: dataset/apple/Image_42.jpg  \n",
            "  inflating: dataset/apple/Image_43.jpg  \n",
            "  inflating: dataset/apple/Image_44.jpg  \n",
            "  inflating: dataset/apple/Image_45.jpg  \n",
            "  inflating: dataset/apple/Image_47.jpg  \n",
            "  inflating: dataset/apple/Image_48.jpg  \n",
            "  inflating: dataset/apple/Image_49.jpg  \n",
            "  inflating: dataset/apple/Image_5.JPG  \n",
            "  inflating: dataset/apple/Image_50.jpg  \n",
            "  inflating: dataset/apple/Image_51.jpg  \n",
            "  inflating: dataset/apple/Image_52.jpg  \n",
            "  inflating: dataset/apple/Image_53.png  \n",
            "  inflating: dataset/apple/Image_54.jpg  \n",
            "  inflating: dataset/apple/Image_55.jpg  \n",
            "  inflating: dataset/apple/Image_56.jpg  \n",
            "  inflating: dataset/apple/Image_57.jpg  \n",
            "  inflating: dataset/apple/Image_58.jpg  \n",
            "  inflating: dataset/apple/Image_59.png  \n",
            "  inflating: dataset/apple/Image_6.jpg  \n",
            "  inflating: dataset/apple/Image_60.jpg  \n",
            "  inflating: dataset/apple/Image_61.jpg  \n",
            "  inflating: dataset/apple/Image_62.jpg  \n",
            "  inflating: dataset/apple/Image_63.jpg  \n",
            "  inflating: dataset/apple/Image_64.jpg  \n",
            "  inflating: dataset/apple/Image_65.png  \n",
            "  inflating: dataset/apple/Image_67.jpg  \n",
            "  inflating: dataset/apple/Image_68.jpg  \n",
            "  inflating: dataset/apple/Image_69.jpg  \n",
            "  inflating: dataset/apple/Image_7.jpg  \n",
            "  inflating: dataset/apple/Image_71.png  \n",
            "  inflating: dataset/apple/Image_76.png  \n",
            "  inflating: dataset/apple/Image_78.jpg  \n",
            "  inflating: dataset/apple/Image_8.jpg  \n",
            "  inflating: dataset/apple/Image_80.jpg  \n",
            "  inflating: dataset/apple/Image_81.png  \n",
            "  inflating: dataset/apple/Image_82.jpg  \n",
            "  inflating: dataset/apple/Image_83.png  \n",
            "  inflating: dataset/apple/Image_86.jpg  \n",
            "  inflating: dataset/apple/Image_87.jpg  \n",
            "  inflating: dataset/apple/Image_9.jpg  \n",
            "  inflating: dataset/apple/Image_90.jpg  \n",
            "  inflating: dataset/apple/Image_92.png  \n",
            "   creating: dataset/banana/\n",
            "  inflating: dataset/banana/Image_1.jpg  \n",
            "  inflating: dataset/banana/Image_100.jpg  \n",
            "  inflating: dataset/banana/Image_11.png  \n",
            "  inflating: dataset/banana/Image_13.jpg  \n",
            "  inflating: dataset/banana/Image_14.jpg  \n",
            "  inflating: dataset/banana/Image_15.jpg  \n",
            "  inflating: dataset/banana/Image_16.jpg  \n",
            "  inflating: dataset/banana/Image_21.JPG  \n",
            "  inflating: dataset/banana/Image_23.jpg  \n",
            "  inflating: dataset/banana/Image_24.jpg  \n",
            "  inflating: dataset/banana/Image_25.jpg  \n",
            "  inflating: dataset/banana/Image_27.jpg  \n",
            "  inflating: dataset/banana/Image_28.jpg  \n",
            "  inflating: dataset/banana/Image_3.jpg  \n",
            "  inflating: dataset/banana/Image_31.jpg  \n",
            "  inflating: dataset/banana/Image_32.jpg  \n",
            "  inflating: dataset/banana/Image_37.jpg  \n",
            "  inflating: dataset/banana/Image_4.jpg  \n",
            "  inflating: dataset/banana/Image_40.jpg  \n",
            "  inflating: dataset/banana/Image_41.jpg  \n",
            "  inflating: dataset/banana/Image_42.jpg  \n",
            "  inflating: dataset/banana/Image_43.png  \n",
            "  inflating: dataset/banana/Image_44.jpg  \n",
            "  inflating: dataset/banana/Image_45.jpg  \n",
            "  inflating: dataset/banana/Image_46.jpg  \n",
            "  inflating: dataset/banana/Image_47.jpg  \n",
            "  inflating: dataset/banana/Image_48.png  \n",
            "  inflating: dataset/banana/Image_49.jpg  \n",
            "  inflating: dataset/banana/Image_5.jpg  \n",
            "  inflating: dataset/banana/Image_50.jpg  \n",
            "  inflating: dataset/banana/Image_51.jpeg  \n",
            "  inflating: dataset/banana/Image_52.jpg  \n",
            "  inflating: dataset/banana/Image_53.png  \n",
            "  inflating: dataset/banana/Image_54.jpg  \n",
            "  inflating: dataset/banana/Image_55.jpg  \n",
            "  inflating: dataset/banana/Image_56.jpg  \n",
            "  inflating: dataset/banana/Image_57.jpg  \n",
            "  inflating: dataset/banana/Image_58.png  \n",
            "  inflating: dataset/banana/Image_59.jpg  \n",
            "  inflating: dataset/banana/Image_6.jpg  \n",
            "  inflating: dataset/banana/Image_61.png  \n",
            "  inflating: dataset/banana/Image_62.jpg  \n",
            "  inflating: dataset/banana/Image_63.jpg  \n",
            "  inflating: dataset/banana/Image_64.jpg  \n",
            "  inflating: dataset/banana/Image_65.png  \n",
            "  inflating: dataset/banana/Image_66.jpg  \n",
            "  inflating: dataset/banana/Image_67.jpg  \n",
            "  inflating: dataset/banana/Image_68.jpg  \n",
            "  inflating: dataset/banana/Image_69.jpg  \n",
            "  inflating: dataset/banana/Image_71.jpg  \n",
            "  inflating: dataset/banana/Image_72.jpg  \n",
            "  inflating: dataset/banana/Image_73.jpg  \n",
            "  inflating: dataset/banana/Image_75.jpg  \n",
            "  inflating: dataset/banana/Image_76.jpg  \n",
            "  inflating: dataset/banana/Image_77.jpg  \n",
            "  inflating: dataset/banana/Image_79.jpg  \n",
            "  inflating: dataset/banana/Image_8.jpg  \n",
            "  inflating: dataset/banana/Image_80.png  \n",
            "  inflating: dataset/banana/Image_81.jpeg  \n",
            "  inflating: dataset/banana/Image_82.jpg  \n",
            "  inflating: dataset/banana/Image_83.png  \n",
            "  inflating: dataset/banana/Image_84.jpg  \n",
            "  inflating: dataset/banana/Image_85.jpg  \n",
            "  inflating: dataset/banana/Image_86.jpg  \n",
            "  inflating: dataset/banana/Image_88.png  \n",
            "  inflating: dataset/banana/Image_89.jpg  \n",
            "  inflating: dataset/banana/Image_9.jpg  \n",
            "  inflating: dataset/banana/Image_90.jpg  \n",
            "  inflating: dataset/banana/Image_91.jpg  \n",
            "  inflating: dataset/banana/Image_92.jpg  \n",
            "  inflating: dataset/banana/Image_93.jpg  \n",
            "  inflating: dataset/banana/Image_95.jpg  \n",
            "  inflating: dataset/banana/Image_96.jpg  \n",
            "  inflating: dataset/banana/Image_97.jpg  \n",
            "  inflating: dataset/banana/Image_98.jpg  \n",
            "   creating: dataset/lemon/\n",
            "  inflating: dataset/lemon/Image_1.png  \n",
            "  inflating: dataset/lemon/Image_10.jpg  \n",
            "  inflating: dataset/lemon/Image_100.png  \n",
            "  inflating: dataset/lemon/Image_11.jpg  \n",
            "  inflating: dataset/lemon/Image_12.jpg  \n",
            "  inflating: dataset/lemon/Image_13.jpg  \n",
            "  inflating: dataset/lemon/Image_14.jpg  \n",
            "  inflating: dataset/lemon/Image_15.JPG  \n",
            "  inflating: dataset/lemon/Image_16.jpg  \n",
            "  inflating: dataset/lemon/Image_17.jpg  \n",
            "  inflating: dataset/lemon/Image_18.jpg  \n",
            "  inflating: dataset/lemon/Image_19.jpg  \n",
            "  inflating: dataset/lemon/Image_2.jpg  \n",
            "  inflating: dataset/lemon/Image_21.jpg  \n",
            "  inflating: dataset/lemon/Image_22.jpg  \n",
            "  inflating: dataset/lemon/Image_23.jpg  \n",
            "  inflating: dataset/lemon/Image_24.jpg  \n",
            "  inflating: dataset/lemon/Image_25.jpg  \n",
            "  inflating: dataset/lemon/Image_27.jpg  \n",
            "  inflating: dataset/lemon/Image_28.jpg  \n",
            "  inflating: dataset/lemon/Image_29.jpeg  \n",
            "  inflating: dataset/lemon/Image_3.jpg  \n",
            "  inflating: dataset/lemon/Image_30.jpg  \n",
            "  inflating: dataset/lemon/Image_31.jpg  \n",
            "  inflating: dataset/lemon/Image_32.jpg  \n",
            "  inflating: dataset/lemon/Image_33.jpeg  \n",
            "  inflating: dataset/lemon/Image_34.jpg  \n",
            "  inflating: dataset/lemon/Image_35.jpg  \n",
            "  inflating: dataset/lemon/Image_36.png  \n",
            "  inflating: dataset/lemon/Image_37.png  \n",
            "  inflating: dataset/lemon/Image_38.jpg  \n",
            "  inflating: dataset/lemon/Image_39.png  \n",
            "  inflating: dataset/lemon/Image_4.jpg  \n",
            "  inflating: dataset/lemon/Image_41.jpg  \n",
            "  inflating: dataset/lemon/Image_42.jpg  \n",
            "  inflating: dataset/lemon/Image_43.jpeg  \n",
            "  inflating: dataset/lemon/Image_44.jpg  \n",
            "  inflating: dataset/lemon/Image_45.png  \n",
            "  inflating: dataset/lemon/Image_47.jpg  \n",
            "  inflating: dataset/lemon/Image_48.jpg  \n",
            "  inflating: dataset/lemon/Image_49.jpg  \n",
            "  inflating: dataset/lemon/Image_5.jpg  \n",
            "  inflating: dataset/lemon/Image_50.jpg  \n",
            "  inflating: dataset/lemon/Image_51.jpg  \n",
            "  inflating: dataset/lemon/Image_52.png  \n",
            "  inflating: dataset/lemon/Image_53.jpg  \n",
            "  inflating: dataset/lemon/Image_54.jpg  \n",
            "  inflating: dataset/lemon/Image_55.jpg  \n",
            "  inflating: dataset/lemon/Image_56.jpg  \n",
            "  inflating: dataset/lemon/Image_57.jpg  \n",
            "  inflating: dataset/lemon/Image_58.jpg  \n",
            "  inflating: dataset/lemon/Image_6.png  \n",
            "  inflating: dataset/lemon/Image_60.jpg  \n",
            "  inflating: dataset/lemon/Image_61.png  \n",
            "  inflating: dataset/lemon/Image_63.jpg  \n",
            "  inflating: dataset/lemon/Image_64.png  \n",
            "  inflating: dataset/lemon/Image_65.jpg  \n",
            "  inflating: dataset/lemon/Image_69.jpg  \n",
            "  inflating: dataset/lemon/Image_7.jpg  \n",
            "  inflating: dataset/lemon/Image_70.jpg  \n",
            "  inflating: dataset/lemon/Image_71.jpg  \n",
            "  inflating: dataset/lemon/Image_74.jpg  \n",
            "  inflating: dataset/lemon/Image_75.jpg  \n",
            "  inflating: dataset/lemon/Image_76.jpeg  \n",
            "  inflating: dataset/lemon/Image_77.jpg  \n",
            "  inflating: dataset/lemon/Image_78.jpg  \n",
            "  inflating: dataset/lemon/Image_8.png  \n",
            "  inflating: dataset/lemon/Image_80.jpg  \n",
            "  inflating: dataset/lemon/Image_84.jpg  \n",
            "  inflating: dataset/lemon/Image_85.jpg  \n",
            "  inflating: dataset/lemon/Image_87.png  \n",
            "  inflating: dataset/lemon/Image_88.jpg  \n",
            "  inflating: dataset/lemon/Image_9.jpg  \n",
            "  inflating: dataset/lemon/Image_90.jpg  \n",
            "  inflating: dataset/lemon/Image_92.jpg  \n",
            "  inflating: dataset/lemon/Image_93.jpg  \n",
            "  inflating: dataset/lemon/Image_94.jpg  \n",
            "  inflating: dataset/lemon/Image_95.png  \n",
            "  inflating: dataset/lemon/Image_96.jpg  \n",
            "  inflating: dataset/lemon/Image_97.jpg  \n",
            "  inflating: dataset/lemon/Image_98.jpg  \n",
            "  inflating: dataset/lemon/Image_99.jpg  \n",
            "   creating: dataset/onion/\n",
            "  inflating: dataset/onion/Image_1.jpg  \n",
            "  inflating: dataset/onion/Image_10.jpg  \n",
            "  inflating: dataset/onion/Image_100.jpg  \n",
            "  inflating: dataset/onion/Image_11.jpg  \n",
            "  inflating: dataset/onion/Image_12.jpg  \n",
            "  inflating: dataset/onion/Image_13.jpg  \n",
            "  inflating: dataset/onion/Image_14.jpg  \n",
            "  inflating: dataset/onion/Image_15.jpg  \n",
            "  inflating: dataset/onion/Image_16.jpg  \n",
            "  inflating: dataset/onion/Image_17.jpg  \n",
            "  inflating: dataset/onion/Image_18.jpg  \n",
            "  inflating: dataset/onion/Image_19.jpg  \n",
            "  inflating: dataset/onion/Image_2.jpg  \n",
            "  inflating: dataset/onion/Image_20.jpg  \n",
            "  inflating: dataset/onion/Image_21.jpg  \n",
            "  inflating: dataset/onion/Image_22.jpg  \n",
            "  inflating: dataset/onion/Image_23.jpg  \n",
            "  inflating: dataset/onion/Image_24.jpg  \n",
            "  inflating: dataset/onion/Image_25.jpg  \n",
            "  inflating: dataset/onion/Image_26.jpg  \n",
            "  inflating: dataset/onion/Image_27.jpg  \n",
            "  inflating: dataset/onion/Image_28.jpg  \n",
            "  inflating: dataset/onion/Image_29.jpg  \n",
            "  inflating: dataset/onion/Image_3.jpg  \n",
            "  inflating: dataset/onion/Image_30.jpg  \n",
            "  inflating: dataset/onion/Image_31.png  \n",
            "  inflating: dataset/onion/Image_32.jpg  \n",
            "  inflating: dataset/onion/Image_33.png  \n",
            "  inflating: dataset/onion/Image_34.png  \n",
            "  inflating: dataset/onion/Image_35.png  \n",
            "  inflating: dataset/onion/Image_36.jpg  \n",
            "  inflating: dataset/onion/Image_37.png  \n",
            "  inflating: dataset/onion/Image_38.jpg  \n",
            "  inflating: dataset/onion/Image_39.jpg  \n",
            "  inflating: dataset/onion/Image_4.jpg  \n",
            "  inflating: dataset/onion/Image_40.jpg  \n",
            "  inflating: dataset/onion/Image_41.jpg  \n",
            "  inflating: dataset/onion/Image_42.JPG  \n",
            "  inflating: dataset/onion/Image_43.jpg  \n",
            "  inflating: dataset/onion/Image_45.jpg  \n",
            "  inflating: dataset/onion/Image_46.jpg  \n",
            "  inflating: dataset/onion/Image_47.jpg  \n",
            "  inflating: dataset/onion/Image_48.jpg  \n",
            "  inflating: dataset/onion/Image_49.png  \n",
            "  inflating: dataset/onion/Image_5.jpg  \n",
            "  inflating: dataset/onion/Image_50.jpg  \n",
            "  inflating: dataset/onion/Image_52.jpg  \n",
            "  inflating: dataset/onion/Image_53.jpg  \n",
            "  inflating: dataset/onion/Image_54.jpg  \n",
            "  inflating: dataset/onion/Image_55.jpg  \n",
            "  inflating: dataset/onion/Image_56.jpg  \n",
            "  inflating: dataset/onion/Image_58.jpg  \n",
            "  inflating: dataset/onion/Image_59.jpg  \n",
            "  inflating: dataset/onion/Image_6.jpg  \n",
            "  inflating: dataset/onion/Image_60.jpg  \n",
            "  inflating: dataset/onion/Image_61.jpg  \n",
            "  inflating: dataset/onion/Image_62.jpg  \n",
            "  inflating: dataset/onion/Image_63.png  \n",
            "  inflating: dataset/onion/Image_64.jpeg  \n",
            "  inflating: dataset/onion/Image_65.jpg  \n",
            "  inflating: dataset/onion/Image_66.jpg  \n",
            "  inflating: dataset/onion/Image_68.png  \n",
            "  inflating: dataset/onion/Image_69.jpg  \n",
            "  inflating: dataset/onion/Image_7.jpg  \n",
            "  inflating: dataset/onion/Image_70.jpg  \n",
            "  inflating: dataset/onion/Image_71.png  \n",
            "  inflating: dataset/onion/Image_72.jpg  \n",
            "  inflating: dataset/onion/Image_73.jpg  \n",
            "  inflating: dataset/onion/Image_74.jpg  \n",
            "  inflating: dataset/onion/Image_75.jpg  \n",
            "  inflating: dataset/onion/Image_78.png  \n",
            "  inflating: dataset/onion/Image_79.jpg  \n",
            "  inflating: dataset/onion/Image_8.jpg  \n",
            "  inflating: dataset/onion/Image_80.jpg  \n",
            "  inflating: dataset/onion/Image_81.jpg  \n",
            "  inflating: dataset/onion/Image_82.jpg  \n",
            "  inflating: dataset/onion/Image_83.jpg  \n",
            "  inflating: dataset/onion/Image_84.jpg  \n",
            "  inflating: dataset/onion/Image_85.jpg  \n",
            "  inflating: dataset/onion/Image_86.jpg  \n",
            "  inflating: dataset/onion/Image_87.jpg  \n",
            "  inflating: dataset/onion/Image_88.jpg  \n",
            "  inflating: dataset/onion/Image_89.jpg  \n",
            "  inflating: dataset/onion/Image_9.png  \n",
            "  inflating: dataset/onion/Image_90.jpg  \n",
            "  inflating: dataset/onion/Image_91.jpg  \n",
            "  inflating: dataset/onion/Image_92.jpg  \n",
            "  inflating: dataset/onion/Image_93.jpg  \n",
            "  inflating: dataset/onion/Image_94.png  \n",
            "  inflating: dataset/onion/Image_95.jpg  \n",
            "  inflating: dataset/onion/Image_96.jpg  \n",
            "  inflating: dataset/onion/Image_97.jpg  \n",
            "  inflating: dataset/onion/Image_98.jpg  \n",
            "  inflating: dataset/onion/Image_99.jpg  \n",
            "   creating: dataset/potato/\n",
            "  inflating: dataset/potato/Image_1.jpg  \n",
            "  inflating: dataset/potato/Image_10.jpg  \n",
            "  inflating: dataset/potato/Image_100.jpg  \n",
            "  inflating: dataset/potato/Image_11.jpg  \n",
            "  inflating: dataset/potato/Image_12.jpg  \n",
            "  inflating: dataset/potato/Image_13.jpg  \n",
            "  inflating: dataset/potato/Image_14.jpg  \n",
            "  inflating: dataset/potato/Image_15.jpg  \n",
            "  inflating: dataset/potato/Image_16.jpg  \n",
            "  inflating: dataset/potato/Image_20.jpg  \n",
            "  inflating: dataset/potato/Image_22.png  \n",
            "  inflating: dataset/potato/Image_23.jpg  \n",
            "  inflating: dataset/potato/Image_28.jpg  \n",
            "  inflating: dataset/potato/Image_29.jpg  \n",
            "  inflating: dataset/potato/Image_3.jpg  \n",
            "  inflating: dataset/potato/Image_30.jpeg  \n",
            "  inflating: dataset/potato/Image_31.jpg  \n",
            "  inflating: dataset/potato/Image_32.jpg  \n",
            "  inflating: dataset/potato/Image_33.jpg  \n",
            "  inflating: dataset/potato/Image_34.jpg  \n",
            "  inflating: dataset/potato/Image_38.jpg  \n",
            "  inflating: dataset/potato/Image_4.jpg  \n",
            "  inflating: dataset/potato/Image_43.jpg  \n",
            "  inflating: dataset/potato/Image_44.jpg  \n",
            "  inflating: dataset/potato/Image_45.jpg  \n",
            "  inflating: dataset/potato/Image_46.png  \n",
            "  inflating: dataset/potato/Image_47.jpg  \n",
            "  inflating: dataset/potato/Image_48.jpg  \n",
            "  inflating: dataset/potato/Image_49.jpg  \n",
            "  inflating: dataset/potato/Image_5.JPG  \n",
            "  inflating: dataset/potato/Image_50.jpg  \n",
            "  inflating: dataset/potato/Image_51.jpg  \n",
            "  inflating: dataset/potato/Image_52.jpg  \n",
            "  inflating: dataset/potato/Image_53.jpg  \n",
            "  inflating: dataset/potato/Image_54.jpg  \n",
            "  inflating: dataset/potato/Image_55.jpg  \n",
            "  inflating: dataset/potato/Image_56.jpg  \n",
            "  inflating: dataset/potato/Image_57.jpg  \n",
            "  inflating: dataset/potato/Image_58.jpg  \n",
            "  inflating: dataset/potato/Image_6.jpg  \n",
            "  inflating: dataset/potato/Image_60.jpg  \n",
            "  inflating: dataset/potato/Image_61.jpg  \n",
            "  inflating: dataset/potato/Image_62.jpg  \n",
            "  inflating: dataset/potato/Image_63.jpg  \n",
            "  inflating: dataset/potato/Image_64.jpg  \n",
            "  inflating: dataset/potato/Image_65.png  \n",
            "  inflating: dataset/potato/Image_66.jpg  \n",
            "  inflating: dataset/potato/Image_67.jpg  \n",
            "  inflating: dataset/potato/Image_68.jpg  \n",
            "  inflating: dataset/potato/Image_69.png  \n",
            "  inflating: dataset/potato/Image_7.jpg  \n",
            "  inflating: dataset/potato/Image_71.jpg  \n",
            "  inflating: dataset/potato/Image_72.jpg  \n",
            "  inflating: dataset/potato/Image_73.jpg  \n",
            "  inflating: dataset/potato/Image_74.jpg  \n",
            "  inflating: dataset/potato/Image_76.jpg  \n",
            "  inflating: dataset/potato/Image_77.jpg  \n",
            "  inflating: dataset/potato/Image_78.jpg  \n",
            "  inflating: dataset/potato/Image_79.jpg  \n",
            "  inflating: dataset/potato/Image_8.jpg  \n",
            "  inflating: dataset/potato/Image_80.png  \n",
            "  inflating: dataset/potato/Image_81.jpg  \n",
            "  inflating: dataset/potato/Image_82.jpg  \n",
            "  inflating: dataset/potato/Image_83.jpg  \n",
            "  inflating: dataset/potato/Image_84.png  \n",
            "  inflating: dataset/potato/Image_85.jpg  \n",
            "  inflating: dataset/potato/Image_86.jpg  \n",
            "  inflating: dataset/potato/Image_88.jpeg  \n",
            "  inflating: dataset/potato/Image_89.jpg  \n",
            "  inflating: dataset/potato/Image_90.png  \n",
            "  inflating: dataset/potato/Image_91.jpg  \n",
            "  inflating: dataset/potato/Image_92.jpg  \n",
            "  inflating: dataset/potato/Image_94.jpg  \n",
            "  inflating: dataset/potato/Image_95.jpg  \n",
            "  inflating: dataset/potato/Image_97.jpg  \n",
            "  inflating: dataset/potato/Image_98.jpg  \n",
            "  inflating: dataset/potato/Image_99.JPG  \n",
            "   creating: dataset/watermelon/\n",
            "  inflating: dataset/watermelon/Image_1.jpg  \n",
            "  inflating: dataset/watermelon/Image_10.jpg  \n",
            "  inflating: dataset/watermelon/Image_100.jpg  \n",
            "  inflating: dataset/watermelon/Image_13.jpg  \n",
            "  inflating: dataset/watermelon/Image_14.jpeg  \n",
            "  inflating: dataset/watermelon/Image_15.jpg  \n",
            "  inflating: dataset/watermelon/Image_16.jpg  \n",
            "  inflating: dataset/watermelon/Image_17.jpg  \n",
            "  inflating: dataset/watermelon/Image_18.jpg  \n",
            "  inflating: dataset/watermelon/Image_19.png  \n",
            "  inflating: dataset/watermelon/Image_2.jpg  \n",
            "  inflating: dataset/watermelon/Image_20.jpg  \n",
            "  inflating: dataset/watermelon/Image_21.jpg  \n",
            "  inflating: dataset/watermelon/Image_22.jpg  \n",
            "  inflating: dataset/watermelon/Image_23.jpg  \n",
            "  inflating: dataset/watermelon/Image_24.jpg  \n",
            "  inflating: dataset/watermelon/Image_25.jpg  \n",
            "  inflating: dataset/watermelon/Image_26.jpg  \n",
            "  inflating: dataset/watermelon/Image_27.jpg  \n",
            "  inflating: dataset/watermelon/Image_28.jpg  \n",
            "  inflating: dataset/watermelon/Image_29.jpg  \n",
            "  inflating: dataset/watermelon/Image_3.jpg  \n",
            "  inflating: dataset/watermelon/Image_30.jpg  \n",
            "  inflating: dataset/watermelon/Image_31.JPG  \n",
            "  inflating: dataset/watermelon/Image_32.jpg  \n",
            "  inflating: dataset/watermelon/Image_33.png  \n",
            "  inflating: dataset/watermelon/Image_34.jpg  \n",
            "  inflating: dataset/watermelon/Image_35.jpg  \n",
            "  inflating: dataset/watermelon/Image_36.jpg  \n",
            "  inflating: dataset/watermelon/Image_37.jpg  \n",
            "  inflating: dataset/watermelon/Image_38.jpg  \n",
            "  inflating: dataset/watermelon/Image_39.jpg  \n",
            "  inflating: dataset/watermelon/Image_4.jpg  \n",
            "  inflating: dataset/watermelon/Image_40.jpg  \n",
            "  inflating: dataset/watermelon/Image_41.jpg  \n",
            "  inflating: dataset/watermelon/Image_42.jpg  \n",
            "  inflating: dataset/watermelon/Image_43.jpg  \n",
            "  inflating: dataset/watermelon/Image_44.jpg  \n",
            "  inflating: dataset/watermelon/Image_45.jpg  \n",
            "  inflating: dataset/watermelon/Image_46.jpg  \n",
            "  inflating: dataset/watermelon/Image_47.jpg  \n",
            "  inflating: dataset/watermelon/Image_49.jpg  \n",
            "  inflating: dataset/watermelon/Image_5.jpg  \n",
            "  inflating: dataset/watermelon/Image_50.jpg  \n",
            "  inflating: dataset/watermelon/Image_51.jpg  \n",
            "  inflating: dataset/watermelon/Image_52.jpg  \n",
            "  inflating: dataset/watermelon/Image_53.jpg  \n",
            "  inflating: dataset/watermelon/Image_55.jpg  \n",
            "  inflating: dataset/watermelon/Image_56.jpg  \n",
            "  inflating: dataset/watermelon/Image_57.jpg  \n",
            "  inflating: dataset/watermelon/Image_58.jpg  \n",
            "  inflating: dataset/watermelon/Image_59.jpg  \n",
            "  inflating: dataset/watermelon/Image_6.jpg  \n",
            "  inflating: dataset/watermelon/Image_61.jpg  \n",
            "  inflating: dataset/watermelon/Image_62.jpg  \n",
            "  inflating: dataset/watermelon/Image_63.jpg  \n",
            "  inflating: dataset/watermelon/Image_65.jpg  \n",
            "  inflating: dataset/watermelon/Image_66.jpg  \n",
            "  inflating: dataset/watermelon/Image_67.jpg  \n",
            "  inflating: dataset/watermelon/Image_68.jpg  \n",
            "  inflating: dataset/watermelon/Image_69.jpg  \n",
            "  inflating: dataset/watermelon/Image_7.jpg  \n",
            "  inflating: dataset/watermelon/Image_70.jpg  \n",
            "  inflating: dataset/watermelon/Image_73.jpg  \n",
            "  inflating: dataset/watermelon/Image_78.jpg  \n",
            "  inflating: dataset/watermelon/Image_79.jpg  \n",
            "  inflating: dataset/watermelon/Image_8.jpg  \n",
            "  inflating: dataset/watermelon/Image_81.jpg  \n",
            "  inflating: dataset/watermelon/Image_83.jpg  \n",
            "  inflating: dataset/watermelon/Image_84.jpg  \n",
            "  inflating: dataset/watermelon/Image_85.jpg  \n",
            "  inflating: dataset/watermelon/Image_86.jpg  \n",
            "  inflating: dataset/watermelon/Image_88.jpg  \n",
            "  inflating: dataset/watermelon/Image_89.png  \n",
            "  inflating: dataset/watermelon/Image_9.jpg  \n",
            "  inflating: dataset/watermelon/Image_90.jpg  \n",
            "  inflating: dataset/watermelon/Image_91.jpg  \n",
            "  inflating: dataset/watermelon/Image_92.jpg  \n",
            "  inflating: dataset/watermelon/Image_94.jpg  \n",
            "  inflating: dataset/watermelon/Image_95.jpg  \n",
            "  inflating: dataset/watermelon/Image_96.jpg  \n",
            "  inflating: dataset/watermelon/Image_97.jpg  \n",
            "  inflating: dataset/watermelon/Image_98.jpg  \n",
            "  inflating: dataset/watermelon/Image_99.jpg  \n"
          ]
        }
      ]
    },
    {
      "cell_type": "code",
      "metadata": {
        "id": "8h1bxmGDqjvq"
      },
      "source": [
        "image_path = '/content/dataset'"
      ],
      "execution_count": 15,
      "outputs": []
    },
    {
      "cell_type": "code",
      "execution_count": 16,
      "metadata": {
        "colab": {
          "base_uri": "https://localhost:8080/"
        },
        "id": "H6h7tu1tdcGp",
        "outputId": "832fcf55-ffba-49b3-c11b-ad7a74daca74"
      },
      "outputs": [
        {
          "output_type": "stream",
          "name": "stdout",
          "text": [
            "/content/dataset\n",
            "['onion', 'apple', 'lemon', 'potato', 'watermelon', 'banana']\n"
          ]
        }
      ],
      "source": [
        "print(image_path)\n",
        "labels = []\n",
        "for i in os.listdir(image_path):\n",
        "  if os.path.isdir(os.path.join(image_path, i)):\n",
        "    labels.append(i)\n",
        "print(labels)"
      ]
    },
    {
      "cell_type": "code",
      "execution_count": 17,
      "metadata": {
        "id": "G-csvUN1dheJ"
      },
      "outputs": [],
      "source": [
        "NUM_EXAMPLES = 5\n",
        "\n",
        "for label in labels:\n",
        "  label_dir = os.path.join(image_path, label)\n",
        "  example_filenames = os.listdir(label_dir)[:NUM_EXAMPLES]\n",
        "  fig, axs = plt.subplots(1, NUM_EXAMPLES, figsize=(10,2))\n",
        "  for i in range(NUM_EXAMPLES):\n",
        "    axs[i].imshow(plt.imread(os.path.join(label_dir, example_filenames[i])))\n",
        "    axs[i].get_xaxis().set_visible(False)\n",
        "    axs[i].get_yaxis().set_visible(False)\n",
        "  fig.suptitle(f'Showing {NUM_EXAMPLES} examples for {label}')\n",
        "\n",
        "plt.show()"
      ]
    },
    {
      "cell_type": "code",
      "execution_count": 18,
      "metadata": {
        "id": "MKJP_8wudnI5"
      },
      "outputs": [],
      "source": [
        "data = image_classifier.Dataset.from_folder(image_path)\n",
        "train_data, remaining_data = data.split(0.9)\n",
        "test_data, validation_data = remaining_data.split(0.5)"
      ]
    },
    {
      "cell_type": "markdown",
      "source": [
        "## Model Training"
      ],
      "metadata": {
        "id": "FJctF7BzW4JJ"
      }
    },
    {
      "cell_type": "code",
      "execution_count": 19,
      "metadata": {
        "id": "P2-1IxmXdrYh"
      },
      "outputs": [],
      "source": [
        "spec = image_classifier.SupportedModels.EFFICIENTNET_LITE2\n",
        "hparams = image_classifier.HParams(export_dir=\"exported_model\",epochs=50)\n",
        "options = image_classifier.ImageClassifierOptions(supported_model=spec, hparams=hparams)"
      ]
    },
    {
      "cell_type": "code",
      "execution_count": 20,
      "metadata": {
        "colab": {
          "base_uri": "https://localhost:8080/"
        },
        "id": "xgPL3hMAdvah",
        "outputId": "1011c543-32ba-4997-a546-e61b3e682b07"
      },
      "outputs": [
        {
          "output_type": "stream",
          "name": "stderr",
          "text": [
            "WARNING:tensorflow:`period` argument is deprecated. Please use `save_freq` to specify the frequency in number of batches seen.\n"
          ]
        },
        {
          "output_type": "stream",
          "name": "stdout",
          "text": [
            "Model: \"sequential\"\n",
            "_________________________________________________________________\n",
            " Layer (type)                Output Shape              Param #   \n",
            "=================================================================\n",
            " keras_layer (KerasLayer)    (None, 1280)              4869168   \n",
            "                                                                 \n",
            " dropout (Dropout)           (None, 1280)              0         \n",
            "                                                                 \n",
            " dense (Dense)               (None, 6)                 7686      \n",
            "                                                                 \n",
            "=================================================================\n",
            "Total params: 4876854 (18.60 MB)\n",
            "Trainable params: 7686 (30.02 KB)\n",
            "Non-trainable params: 4869168 (18.57 MB)\n",
            "_________________________________________________________________\n",
            "None\n"
          ]
        },
        {
          "output_type": "stream",
          "name": "stderr",
          "text": [
            "WARNING:tensorflow:From /usr/local/lib/python3.11/dist-packages/tensorflow/python/util/dispatch.py:1260: resize_bicubic (from tensorflow.python.ops.image_ops_impl) is deprecated and will be removed in a future version.\n",
            "Instructions for updating:\n",
            "Use `tf.image.resize(...method=ResizeMethod.BICUBIC...)` instead.\n"
          ]
        },
        {
          "output_type": "stream",
          "name": "stdout",
          "text": [
            "Epoch 1/50\n",
            "216/216 [==============================] - 82s 354ms/step - loss: 1.8510 - accuracy: 0.2315 - val_loss: 1.6599 - val_accuracy: 0.3200\n",
            "Epoch 2/50\n",
            "216/216 [==============================] - 78s 362ms/step - loss: 1.6906 - accuracy: 0.3287 - val_loss: 1.5026 - val_accuracy: 0.4400\n",
            "Epoch 3/50\n",
            "216/216 [==============================] - 97s 449ms/step - loss: 1.4577 - accuracy: 0.5463 - val_loss: 1.3271 - val_accuracy: 0.5200\n",
            "Epoch 4/50\n",
            "216/216 [==============================] - 74s 341ms/step - loss: 1.2743 - accuracy: 0.6875 - val_loss: 1.1764 - val_accuracy: 0.7200\n",
            "Epoch 5/50\n",
            "216/216 [==============================] - 75s 349ms/step - loss: 1.1061 - accuracy: 0.7986 - val_loss: 1.0519 - val_accuracy: 0.8800\n",
            "Epoch 6/50\n",
            "216/216 [==============================] - 74s 345ms/step - loss: 0.9864 - accuracy: 0.8403 - val_loss: 0.9495 - val_accuracy: 0.8800\n",
            "Epoch 7/50\n",
            "216/216 [==============================] - 74s 343ms/step - loss: 0.8662 - accuracy: 0.9144 - val_loss: 0.8650 - val_accuracy: 0.8800\n",
            "Epoch 8/50\n",
            "216/216 [==============================] - 76s 351ms/step - loss: 0.8020 - accuracy: 0.9144 - val_loss: 0.8005 - val_accuracy: 0.9200\n",
            "Epoch 9/50\n",
            "216/216 [==============================] - 74s 342ms/step - loss: 0.7566 - accuracy: 0.9236 - val_loss: 0.7510 - val_accuracy: 0.9200\n",
            "Epoch 10/50\n",
            "216/216 [==============================] - 97s 450ms/step - loss: 0.7027 - accuracy: 0.9468 - val_loss: 0.7113 - val_accuracy: 0.9200\n",
            "Epoch 11/50\n",
            "216/216 [==============================] - 80s 367ms/step - loss: 0.6861 - accuracy: 0.9398 - val_loss: 0.6793 - val_accuracy: 0.9200\n",
            "Epoch 12/50\n",
            "216/216 [==============================] - 75s 347ms/step - loss: 0.6589 - accuracy: 0.9491 - val_loss: 0.6568 - val_accuracy: 0.9200\n",
            "Epoch 13/50\n",
            "216/216 [==============================] - 74s 344ms/step - loss: 0.6582 - accuracy: 0.9444 - val_loss: 0.6381 - val_accuracy: 0.9200\n",
            "Epoch 14/50\n",
            "216/216 [==============================] - 74s 344ms/step - loss: 0.6382 - accuracy: 0.9560 - val_loss: 0.6218 - val_accuracy: 0.9600\n",
            "Epoch 15/50\n",
            "216/216 [==============================] - 72s 334ms/step - loss: 0.6078 - accuracy: 0.9606 - val_loss: 0.6104 - val_accuracy: 0.9600\n",
            "Epoch 16/50\n",
            "216/216 [==============================] - 75s 345ms/step - loss: 0.6186 - accuracy: 0.9352 - val_loss: 0.6011 - val_accuracy: 0.9600\n",
            "Epoch 17/50\n",
            "216/216 [==============================] - 71s 328ms/step - loss: 0.5974 - accuracy: 0.9537 - val_loss: 0.5937 - val_accuracy: 0.9600\n",
            "Epoch 18/50\n",
            "216/216 [==============================] - 80s 369ms/step - loss: 0.5837 - accuracy: 0.9630 - val_loss: 0.5874 - val_accuracy: 0.9600\n",
            "Epoch 19/50\n",
            "216/216 [==============================] - 76s 352ms/step - loss: 0.5771 - accuracy: 0.9630 - val_loss: 0.5816 - val_accuracy: 0.9600\n",
            "Epoch 20/50\n",
            "216/216 [==============================] - 74s 342ms/step - loss: 0.5728 - accuracy: 0.9676 - val_loss: 0.5741 - val_accuracy: 0.9600\n",
            "Epoch 21/50\n",
            "216/216 [==============================] - 72s 334ms/step - loss: 0.5731 - accuracy: 0.9583 - val_loss: 0.5704 - val_accuracy: 0.9600\n",
            "Epoch 22/50\n",
            "216/216 [==============================] - 73s 338ms/step - loss: 0.5656 - accuracy: 0.9606 - val_loss: 0.5671 - val_accuracy: 0.9600\n",
            "Epoch 23/50\n",
            "216/216 [==============================] - 74s 342ms/step - loss: 0.5719 - accuracy: 0.9583 - val_loss: 0.5630 - val_accuracy: 0.9600\n",
            "Epoch 24/50\n",
            "216/216 [==============================] - 74s 344ms/step - loss: 0.5805 - accuracy: 0.9537 - val_loss: 0.5608 - val_accuracy: 0.9600\n",
            "Epoch 25/50\n",
            "216/216 [==============================] - 75s 348ms/step - loss: 0.5758 - accuracy: 0.9583 - val_loss: 0.5600 - val_accuracy: 0.9600\n",
            "Epoch 26/50\n",
            "216/216 [==============================] - 77s 358ms/step - loss: 0.5582 - accuracy: 0.9630 - val_loss: 0.5553 - val_accuracy: 0.9600\n",
            "Epoch 27/50\n",
            "216/216 [==============================] - 78s 360ms/step - loss: 0.5665 - accuracy: 0.9699 - val_loss: 0.5522 - val_accuracy: 0.9600\n",
            "Epoch 28/50\n",
            "216/216 [==============================] - 78s 360ms/step - loss: 0.5597 - accuracy: 0.9653 - val_loss: 0.5519 - val_accuracy: 0.9600\n",
            "Epoch 29/50\n",
            "216/216 [==============================] - 74s 343ms/step - loss: 0.5588 - accuracy: 0.9722 - val_loss: 0.5500 - val_accuracy: 0.9600\n",
            "Epoch 30/50\n",
            "216/216 [==============================] - 74s 344ms/step - loss: 0.5570 - accuracy: 0.9676 - val_loss: 0.5491 - val_accuracy: 0.9600\n",
            "Epoch 31/50\n",
            "216/216 [==============================] - 69s 321ms/step - loss: 0.5444 - accuracy: 0.9745 - val_loss: 0.5483 - val_accuracy: 0.9600\n",
            "Epoch 32/50\n",
            "216/216 [==============================] - 66s 303ms/step - loss: 0.5483 - accuracy: 0.9606 - val_loss: 0.5470 - val_accuracy: 0.9600\n",
            "Epoch 33/50\n",
            "216/216 [==============================] - 70s 323ms/step - loss: 0.5409 - accuracy: 0.9722 - val_loss: 0.5452 - val_accuracy: 0.9600\n",
            "Epoch 34/50\n",
            "216/216 [==============================] - 69s 320ms/step - loss: 0.5367 - accuracy: 0.9745 - val_loss: 0.5438 - val_accuracy: 0.9600\n",
            "Epoch 35/50\n",
            "216/216 [==============================] - 70s 322ms/step - loss: 0.5352 - accuracy: 0.9769 - val_loss: 0.5434 - val_accuracy: 0.9600\n",
            "Epoch 36/50\n",
            "216/216 [==============================] - 71s 327ms/step - loss: 0.5402 - accuracy: 0.9745 - val_loss: 0.5417 - val_accuracy: 0.9600\n",
            "Epoch 37/50\n",
            "216/216 [==============================] - 70s 323ms/step - loss: 0.5475 - accuracy: 0.9653 - val_loss: 0.5399 - val_accuracy: 1.0000\n",
            "Epoch 38/50\n",
            "216/216 [==============================] - 74s 343ms/step - loss: 0.5501 - accuracy: 0.9653 - val_loss: 0.5395 - val_accuracy: 1.0000\n",
            "Epoch 39/50\n",
            "216/216 [==============================] - 72s 333ms/step - loss: 0.5509 - accuracy: 0.9630 - val_loss: 0.5376 - val_accuracy: 1.0000\n",
            "Epoch 40/50\n",
            "216/216 [==============================] - 65s 300ms/step - loss: 0.5456 - accuracy: 0.9769 - val_loss: 0.5370 - val_accuracy: 1.0000\n",
            "Epoch 41/50\n",
            "216/216 [==============================] - 70s 322ms/step - loss: 0.5422 - accuracy: 0.9722 - val_loss: 0.5363 - val_accuracy: 1.0000\n",
            "Epoch 42/50\n",
            "216/216 [==============================] - 71s 326ms/step - loss: 0.5392 - accuracy: 0.9745 - val_loss: 0.5367 - val_accuracy: 1.0000\n",
            "Epoch 43/50\n",
            "216/216 [==============================] - 69s 321ms/step - loss: 0.5465 - accuracy: 0.9699 - val_loss: 0.5360 - val_accuracy: 1.0000\n",
            "Epoch 44/50\n",
            "216/216 [==============================] - 65s 299ms/step - loss: 0.5420 - accuracy: 0.9699 - val_loss: 0.5358 - val_accuracy: 1.0000\n",
            "Epoch 45/50\n",
            "216/216 [==============================] - 71s 326ms/step - loss: 0.5454 - accuracy: 0.9676 - val_loss: 0.5348 - val_accuracy: 0.9600\n",
            "Epoch 46/50\n",
            "216/216 [==============================] - 70s 325ms/step - loss: 0.5361 - accuracy: 0.9722 - val_loss: 0.5332 - val_accuracy: 1.0000\n",
            "Epoch 47/50\n",
            "216/216 [==============================] - 64s 296ms/step - loss: 0.5370 - accuracy: 0.9769 - val_loss: 0.5328 - val_accuracy: 1.0000\n",
            "Epoch 48/50\n",
            "216/216 [==============================] - 70s 324ms/step - loss: 0.5418 - accuracy: 0.9745 - val_loss: 0.5312 - val_accuracy: 1.0000\n",
            "Epoch 49/50\n",
            "216/216 [==============================] - 70s 324ms/step - loss: 0.5370 - accuracy: 0.9722 - val_loss: 0.5299 - val_accuracy: 1.0000\n",
            "Epoch 50/50\n",
            "216/216 [==============================] - 64s 298ms/step - loss: 0.5294 - accuracy: 0.9769 - val_loss: 0.5293 - val_accuracy: 1.0000\n"
          ]
        }
      ],
      "source": [
        "model = image_classifier.ImageClassifier.create(\n",
        "    train_data = train_data,\n",
        "    validation_data = validation_data,\n",
        "    options=options,\n",
        ")"
      ]
    },
    {
      "cell_type": "markdown",
      "source": [
        "##Model Evaluation"
      ],
      "metadata": {
        "id": "-D9Jyp8mXDQX"
      }
    },
    {
      "cell_type": "code",
      "execution_count": 21,
      "metadata": {
        "id": "QmET7q-bdhca",
        "colab": {
          "base_uri": "https://localhost:8080/"
        },
        "outputId": "c0bc9041-95ec-44ce-eaf8-0fae027bd98a"
      },
      "outputs": [
        {
          "output_type": "stream",
          "name": "stdout",
          "text": [
            "1/1 [==============================] - 16s 16s/step - loss: 0.4882 - accuracy: 1.0000\n",
            "Test loss:0.4882073402404785, Test accuracy:1.0\n"
          ]
        }
      ],
      "source": [
        "loss, acc = model.evaluate(test_data)\n",
        "print(f'Test loss:{loss}, Test accuracy:{acc}')"
      ]
    },
    {
      "cell_type": "markdown",
      "source": [
        "##Model Conversion"
      ],
      "metadata": {
        "id": "4CDVD9QLXHQu"
      }
    },
    {
      "cell_type": "code",
      "execution_count": 22,
      "metadata": {
        "id": "d8ceuBw5eVFQ"
      },
      "outputs": [],
      "source": [
        "model.export_model()"
      ]
    },
    {
      "cell_type": "code",
      "execution_count": 23,
      "metadata": {
        "colab": {
          "base_uri": "https://localhost:8080/",
          "height": 34
        },
        "id": "6_-0xgBteZSR",
        "outputId": "1412a20f-d04c-467b-99d2-758ef3f09ef6"
      },
      "outputs": [
        {
          "output_type": "stream",
          "name": "stdout",
          "text": [
            "checkpoint  metadata.json  model.tflite  summaries\n"
          ]
        },
        {
          "output_type": "display_data",
          "data": {
            "text/plain": [
              "<IPython.core.display.Javascript object>"
            ],
            "application/javascript": [
              "\n",
              "    async function download(id, filename, size) {\n",
              "      if (!google.colab.kernel.accessAllowed) {\n",
              "        return;\n",
              "      }\n",
              "      const div = document.createElement('div');\n",
              "      const label = document.createElement('label');\n",
              "      label.textContent = `Downloading \"${filename}\": `;\n",
              "      div.appendChild(label);\n",
              "      const progress = document.createElement('progress');\n",
              "      progress.max = size;\n",
              "      div.appendChild(progress);\n",
              "      document.body.appendChild(div);\n",
              "\n",
              "      const buffers = [];\n",
              "      let downloaded = 0;\n",
              "\n",
              "      const channel = await google.colab.kernel.comms.open(id);\n",
              "      // Send a message to notify the kernel that we're ready.\n",
              "      channel.send({})\n",
              "\n",
              "      for await (const message of channel.messages) {\n",
              "        // Send a message to notify the kernel that we're ready.\n",
              "        channel.send({})\n",
              "        if (message.buffers) {\n",
              "          for (const buffer of message.buffers) {\n",
              "            buffers.push(buffer);\n",
              "            downloaded += buffer.byteLength;\n",
              "            progress.value = downloaded;\n",
              "          }\n",
              "        }\n",
              "      }\n",
              "      const blob = new Blob(buffers, {type: 'application/binary'});\n",
              "      const a = document.createElement('a');\n",
              "      a.href = window.URL.createObjectURL(blob);\n",
              "      a.download = filename;\n",
              "      div.appendChild(a);\n",
              "      a.click();\n",
              "      div.remove();\n",
              "    }\n",
              "  "
            ]
          },
          "metadata": {}
        },
        {
          "output_type": "display_data",
          "data": {
            "text/plain": [
              "<IPython.core.display.Javascript object>"
            ],
            "application/javascript": [
              "download(\"download_ecb070b9-d852-4d40-bc6c-30409dc9b8fa\", \"model.tflite\", 19207088)"
            ]
          },
          "metadata": {}
        }
      ],
      "source": [
        "!ls exported_model\n",
        "files.download('exported_model/model.tflite')"
      ]
    },
    {
      "cell_type": "markdown",
      "source": [
        "### Retraining parameters\n",
        "\n",
        "> Indented block\n",
        "\n",
        "\n",
        "\n",
        "You can further customize how the retraining process runs to adjust training time and potentially increase the retrained model's performance. *These parameters are optional*. Use the `ImageClassifierModelOptions` class and the `HParams` class to set these additional options.\n",
        "\n",
        "Use the `ImageClassifierModelOptions` class parameters to customize the existing model. It has the following customizable parameter that affects model accuracy:\n",
        "* `dropout_rate`: The fraction of the input units to drop. Used in dropout layer. Defaults to 0.05.\n",
        "\n",
        "Use the `HParams` class to customize other parameters related to training and saving the model:\n",
        "\n",
        "* `learning_rate`: The learning rate to use for gradient descent training. Defaults to 0.001.\n",
        "* `batch_size`: Batch size for training. Defaults to 2.\n",
        "* `epochs`: Number of training iterations over the dataset. Defaults to 10.\n",
        "* `steps_per_epoch`: An optional integer that indicates the number of training steps per epoch. If not set, the training pipeline calculates the default steps per epoch as the training dataset size divided by batch size.\n",
        "* `shuffle`: True if the dataset is shuffled before training. Defaults to False.\n",
        "* `do_fine_tuning`: If true, the base module is trained together with the classification layer on top. This defaults to False, which means only the classification layer is trained and pre-trained weights for the base module are frozen.\n",
        "* `l1_regularizer`: A regularizer that applies a L1 regularization penalty. Defaults to 0.0.\n",
        "* `l2_regularizer`: A regularizer that applies a L2 regularization penalty. Defaults to 0.0001.\n",
        "* `label_smoothing`: Amount of label smoothing to apply. See [`tf.keras.losses`](https://www.tensorflow.org/api_docs/python/tf/keras/losses) for more details. Defaults to 0.1.\n",
        "* `do_data_augmentation`: Whether or not the training dataset is augmented by applying random transformations such as cropping, flipping, etc. See [utils.image_preprocessing](https://www.tensorflow.org/api_docs/python/tf/keras/preprocessing/image) for details. Defaults to True.\n",
        "* `decay_samples`: Number of training samples used to calculate the decay steps and create the training optimizer. Defaults to 2,560,000.\n",
        "* `warmup_epochs`: Number of warmup steps for a linear increasing warmup schedule on the learning rate. Used to set up warmup schedule by `model_util.WarmUp`. Defaults to 2.\n",
        "\n"
      ],
      "metadata": {
        "id": "IppDtuvqrxvU"
      }
    },
    {
      "cell_type": "code",
      "source": [
        "hparams=image_classifier.HParams(epochs=15, export_dir=\"exported_model_2\")\n",
        "options = image_classifier.ImageClassifierOptions(supported_model=spec, hparams=hparams)\n",
        "model_2 = image_classifier.ImageClassifier.create(\n",
        "    train_data = train_data,\n",
        "    validation_data = validation_data,\n",
        "    options=options,\n",
        ")"
      ],
      "metadata": {
        "id": "W-OEEwV2r49P"
      },
      "execution_count": null,
      "outputs": []
    },
    {
      "cell_type": "code",
      "source": [
        "loss, accuracy = model_2.evaluate(test_data)"
      ],
      "metadata": {
        "id": "QaPCKAHlsC1l"
      },
      "execution_count": null,
      "outputs": []
    },
    {
      "cell_type": "code",
      "source": [
        "model.export_model()"
      ],
      "metadata": {
        "id": "5z2m1G16sJr-"
      },
      "execution_count": null,
      "outputs": []
    }
  ],
  "metadata": {
    "colab": {
      "provenance": []
    },
    "kernelspec": {
      "display_name": "Python 3",
      "name": "python3"
    },
    "language_info": {
      "name": "python"
    }
  },
  "nbformat": 4,
  "nbformat_minor": 0
}